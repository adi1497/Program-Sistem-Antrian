{
  "nbformat": 4,
  "nbformat_minor": 0,
  "metadata": {
    "colab": {
      "name": "Tugas_Prak_Modsim.ipynb",
      "provenance": []
    },
    "kernelspec": {
      "name": "python3",
      "display_name": "Python 3"
    },
    "language_info": {
      "name": "python"
    }
  },
  "cells": [
    {
      "cell_type": "code",
      "source": [
        "from sympy import *\n",
        "from IPython.display import display, Math"
      ],
      "metadata": {
        "id": "0I78h-IZ5RHG"
      },
      "execution_count": 20,
      "outputs": []
    },
    {
      "cell_type": "code",
      "execution_count": 21,
      "metadata": {
        "colab": {
          "base_uri": "https://localhost:8080/",
          "height": 861
        },
        "id": "iswcGGTs3aL4",
        "outputId": "0a9a74e3-0928-4917-c360-e4e1b6ad1edd"
      },
      "outputs": [
        {
          "name": "stdout",
          "output_type": "stream",
          "text": [
            "Program Sistem Antrian\n",
            "1. Sistem Antrian (M/M/1)\n",
            "2. Sistem Antrian (M/M/c)\n",
            "Menu yang dipilih = 1\n",
            "\n",
            "Sistem Antrian (M/M/1)\n",
            "Silahkan masukan data yang diketahui!\n",
            "\n",
            "Rata rata kedatangan pelanggan = 6\n",
            "Rata rata kecepatan pelayanan = 8\n"
          ]
        },
        {
          "output_type": "display_data",
          "data": {
            "text/plain": [
              "<IPython.core.display.Math object>"
            ],
            "text/latex": "$$\\lambda = 6$$"
          },
          "metadata": {}
        },
        {
          "output_type": "display_data",
          "data": {
            "text/plain": [
              "<IPython.core.display.Math object>"
            ],
            "text/latex": "$$\\mu = 8$$"
          },
          "metadata": {}
        },
        {
          "output_type": "display_data",
          "data": {
            "text/plain": [
              "<IPython.core.display.Math object>"
            ],
            "text/latex": "$$\\rho = 0.75$$"
          },
          "metadata": {}
        },
        {
          "output_type": "display_data",
          "data": {
            "text/plain": [
              "<IPython.core.display.Math object>"
            ],
            "text/latex": "$$Ls = 3.0$$"
          },
          "metadata": {}
        },
        {
          "output_type": "display_data",
          "data": {
            "text/plain": [
              "<IPython.core.display.Math object>"
            ],
            "text/latex": "$$Ws = 0.5$$"
          },
          "metadata": {}
        },
        {
          "output_type": "display_data",
          "data": {
            "text/plain": [
              "<IPython.core.display.Math object>"
            ],
            "text/latex": "$$Lq = 2.25$$"
          },
          "metadata": {}
        },
        {
          "output_type": "display_data",
          "data": {
            "text/plain": [
              "<IPython.core.display.Math object>"
            ],
            "text/latex": "$$Wq = 0.375$$"
          },
          "metadata": {}
        },
        {
          "name": "stdout",
          "output_type": "stream",
          "text": [
            "\n",
            "Keluar dari program? Ya/Tidak: \n",
            "tidak\n",
            "Program Sistem Antrian\n",
            "1. Sistem Antrian (M/M/1)\n",
            "2. Sistem Antrian (M/M/c)\n",
            "Menu yang dipilih = 2\n",
            "\n",
            "Sistem Antrian (M/M/c)\n",
            "Silahkan masukan data yang diketahui!\n",
            "\n",
            "Rata rata kedatangan pelanggan = 7\n",
            "Rata rata kecepatan pelayanan = 3\n",
            "Jumlah server Pelayanan = 3\n"
          ]
        },
        {
          "output_type": "display_data",
          "data": {
            "text/plain": [
              "<IPython.core.display.Math object>"
            ],
            "text/latex": "$$\\lambda = 7$$"
          },
          "metadata": {}
        },
        {
          "output_type": "display_data",
          "data": {
            "text/plain": [
              "<IPython.core.display.Math object>"
            ],
            "text/latex": "$$\\mu = 3$$"
          },
          "metadata": {}
        },
        {
          "output_type": "display_data",
          "data": {
            "text/plain": [
              "<IPython.core.display.Math object>"
            ],
            "text/latex": "$$c = 3$$"
          },
          "metadata": {}
        },
        {
          "output_type": "display_data",
          "data": {
            "text/plain": [
              "<IPython.core.display.Math object>"
            ],
            "text/latex": "$$\\rho = 0.7777777777777778$$"
          },
          "metadata": {}
        },
        {
          "output_type": "display_data",
          "data": {
            "text/plain": [
              "<IPython.core.display.Math object>"
            ],
            "text/latex": "$$P_0 = 0.457433290978399$$"
          },
          "metadata": {}
        },
        {
          "output_type": "display_data",
          "data": {
            "text/plain": [
              "<IPython.core.display.Math object>"
            ],
            "text/latex": "$$Lq = 0.00697491065665254$$"
          },
          "metadata": {}
        },
        {
          "output_type": "display_data",
          "data": {
            "text/plain": [
              "<IPython.core.display.Math object>"
            ],
            "text/latex": "$$Ls = 2.3333333333333335$$"
          },
          "metadata": {}
        },
        {
          "output_type": "display_data",
          "data": {
            "text/plain": [
              "<IPython.core.display.Math object>"
            ],
            "text/latex": "$$Wq = 0.000996415808$$"
          },
          "metadata": {}
        },
        {
          "output_type": "display_data",
          "data": {
            "text/plain": [
              "<IPython.core.display.Math object>"
            ],
            "text/latex": "$$Ws = 0.3333333333333333$$"
          },
          "metadata": {}
        },
        {
          "output_type": "stream",
          "name": "stdout",
          "text": [
            "\n",
            "Keluar dari program? Ya/Tidak: \n",
            "Ya\n",
            "\n",
            "MADE BY ADI\n"
          ]
        }
      ],
      "source": [
        "def SistemAntrian():\n",
        "  print(\"Program Sistem Antrian\")\n",
        "  print(\"1. Sistem Antrian (M/M/1)\")\n",
        "  print(\"2. Sistem Antrian (M/M/c)\")\n",
        "  menu = input(\"Menu yang dipilih = \")\n",
        "  menu = int(menu)\n",
        "  \n",
        "  if menu == 1:\n",
        "    lambda1 = int\n",
        "    mu = int\n",
        "    c = int\n",
        "    rho = int\n",
        "    print(\"\\nSistem Antrian (M/M/1)\")\n",
        "    print(\"Silahkan masukan data yang diketahui!\\n\")\n",
        "    lambda1 = input(\"Rata rata kedatangan pelanggan = \")\n",
        "    mu = input(\"Rata rata kecepatan pelayanan = \")\n",
        "    rho = int(lambda1)/int(mu)\n",
        "    Ls = int(lambda1)/(int(mu)-int(lambda1))\n",
        "    Ws = 1/(int(mu)-int(lambda1))\n",
        "    Lq = int(lambda1)**2/(int(mu)*(int(mu)-int(lambda1)))\n",
        "    Wq = int(lambda1)/(int(mu)*(int(mu)-int(lambda1)))\n",
        "    display(Math('\\lambda = '+str(lambda1)))\n",
        "    display(Math('\\mu = '+str(mu)))\n",
        "    display(Math('\\\\rho = '+str(rho)))\n",
        "    display(Math('Ls = '+str(Ls)))\n",
        "    display(Math('Ws = '+str(Ws)))\n",
        "    display(Math('Lq = '+str(Lq)))\n",
        "    display(Math('Wq = '+str(Wq)))\n",
        "\n",
        "  elif menu == 2:\n",
        "    print(\"\\nSistem Antrian (M/M/c)\")\n",
        "    print(\"Silahkan masukan data yang diketahui!\\n\")\n",
        "    lambda1 = input(\"Rata rata kedatangan pelanggan = \")\n",
        "    mu = input(\"Rata rata kecepatan pelayanan = \")\n",
        "    c = input(\"Jumlah server Pelayanan = \")\n",
        "    rho = int(lambda1)/(int(mu)*int(c))\n",
        "    n = symbols('n')\n",
        "    p0 = 1/((Sum((float(rho))**(n)/factorial(n),(n,0,int(c)-1)).doit())+((float(rho)**int(c))/((factorial(int(c)-1))*(int(c)-float(rho)))))\n",
        "    Lq = (float(p0)*(float(rho))**float(c)*(float(lambda1)/float(c))*float(mu))/(factorial(float(c))*(1-(float(lambda1)*float(mu)/float(c)))**2)\n",
        "    Ls = int(Lq)+(int(lambda1)/int(mu))\n",
        "    Wq = float(Lq)/float(lambda1)\n",
        "    Ws = int(Wq)+(1/int(mu))\n",
        "    display(Math('\\lambda = '+str(lambda1)))\n",
        "    display(Math('\\mu = '+str(mu)))\n",
        "    display(Math('c = '+str(c)))\n",
        "    display(Math('\\\\rho = '+str(rho)))\n",
        "    display(Math('P_0 = '+str(p0)))\n",
        "    display(Math('Lq = '+str(Lq)))\n",
        "    display(Math('Ls = '+str(Ls)))\n",
        "    display(Math('Wq = '+str(f\"{Wq:.12f}\")))\n",
        "    display(Math('Ws = '+str(Ws)))\n",
        "\n",
        "  else:\n",
        "    print(\"TIDAK ADA, PILIH YANG LAIN\\n\\n\")\n",
        "\n",
        "\n",
        "SistemAntrian()\n",
        "\n",
        "active = True\n",
        "while active:\n",
        "  pilihan = input(print(\"\\nKeluar dari program? Ya/Tidak: \"))\n",
        "  \n",
        "  if pilihan == 'Ya':\n",
        "    print(\"\\nMADE BY ADI\")\n",
        "    active = False\n",
        "  else:\n",
        "    SistemAntrian()"
      ]
    }
  ]
}